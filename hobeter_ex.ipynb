{
 "cells": [
  {
   "cell_type": "code",
   "execution_count": 1,
   "metadata": {},
   "outputs": [
    {
     "name": "stdout",
     "output_type": "stream",
     "text": [
      "Successfully download file grp-homework/GRP.tar.gz from OBS to local ./GRP.tar.gz\n"
     ]
    },
    {
     "data": {
      "text/plain": [
       "0"
      ]
     },
     "execution_count": 1,
     "metadata": {},
     "output_type": "execute_result"
    }
   ],
   "source": [
    "import os\n",
    "from modelarts.session import Session\n",
    "sess = Session()\n",
    "bucket_path=\"grp-homework/GRP.tar.gz\"\n",
    "sess.download_data(bucket_path=bucket_path, path=\"./GRP.tar.gz\")\n",
    "# 使用tar命令解压资源包\n",
    "os.system(\"tar -xf ./GRP.tar.gz\")\n",
    "# 清理压缩包\n",
    "os.system(\"rm ./GRP.tar.gz\")"
   ]
  },
  {
   "cell_type": "code",
   "execution_count": 2,
   "metadata": {
    "scrolled": true
   },
   "outputs": [
    {
     "name": "stdout",
     "output_type": "stream",
     "text": [
      "Requirement already satisfied: xlwt in /home/ma-user/anaconda3/envs/TensorFlow-1.8/lib/python3.6/site-packages\n",
      "\u001b[33mYou are using pip version 9.0.1, however version 20.1.1 is available.\n",
      "You should consider upgrading via the 'pip install --upgrade pip' command.\u001b[0m\n"
     ]
    }
   ],
   "source": [
    "!pip install xlwt\n",
    "import xlwt\n",
    "import glob\n",
    "import datetime"
   ]
  },
  {
   "cell_type": "code",
   "execution_count": 3,
   "metadata": {},
   "outputs": [],
   "source": [
    "# 创建一个workbook 设置编码\n",
    "workbook = xlwt.Workbook(encoding = 'utf-8')\n",
    "# 创建一个worksheet\n",
    "worksheet = workbook.add_sheet('GRP_res')\n",
    "\n",
    "# 写入excel\n",
    "# 参数对应 行, 列, 值\n",
    "worksheet.write_merge(0, 1, 0, 0, '名')\n",
    "worksheet.write_merge(0, 1, 1, 1, 'Ⅰ类')\n",
    "worksheet.write_merge(0, 1, 2, 2, 'Ⅱ类')\n",
    "worksheet.write_merge(0, 0, 3, 6, 'dlib')\n",
    "worksheet.write(1,3, label = '识别数')\n",
    "worksheet.write(1,4, label = '正确数')\n",
    "worksheet.write(1,5, label = '漏检数')\n",
    "worksheet.write(1,6, label = '错检数')\n",
    "worksheet.write_merge(0, 0, 7, 10, 'MTCNN')\n",
    "worksheet.write(1,7, label = '识别数')\n",
    "worksheet.write(1,8, label = '正确数')\n",
    "worksheet.write(1,9, label = '漏检数')\n",
    "worksheet.write(1,10, label = '错检数')\n",
    "worksheet.write_merge(0, 0, 11, 14, 'OpenCv')\n",
    "worksheet.write(1,11, label = '识别数')\n",
    "worksheet.write(1,12, label = '正确数')\n",
    "worksheet.write(1,13, label = '漏检数')\n",
    "worksheet.write(1,14, label = '错检数')\n",
    "a=1\n",
    "b=1\n",
    "c=0\n",
    "ps=1\n",
    "while ((a!=7)or(b!=1)or(c!=0)):\n",
    "    ps+=1\n",
    "    c+=1\n",
    "    worksheet.write(ps,0, label = a*100+b*10+c)\n",
    "    worksheet.write(ps,1, label = a)\n",
    "    worksheet.write(ps,2, label = b)\n",
    "    if((b==1)or(b==2)):\n",
    "        if(c==5):\n",
    "            c=0\n",
    "            b+=1\n",
    "    elif(b==3):\n",
    "        if(c==3):\n",
    "            c=0\n",
    "            b+=1\n",
    "    elif(b==4):\n",
    "        if(c==2):\n",
    "            c=0\n",
    "            b+=1\n",
    "    if(b==5):\n",
    "        b=1\n",
    "        a+=1"
   ]
  },
  {
   "cell_type": "code",
   "execution_count": 4,
   "metadata": {
    "scrolled": false
   },
   "outputs": [
    {
     "name": "stdout",
     "output_type": "stream",
     "text": [
      "Successfully download file modelarts-labs-bj4/notebook/DL_face_detector/face_detector.tar.gz from OBS to local ./face_detector.tar.gz\n",
      "Requirement already satisfied: dlib==19.17.0 in /home/ma-user/anaconda3/envs/TensorFlow-1.8/lib/python3.6/site-packages\n",
      "\u001b[33mYou are using pip version 9.0.1, however version 20.1.1 is available.\n",
      "You should consider upgrading via the 'pip install --upgrade pip' command.\u001b[0m\n"
     ]
    }
   ],
   "source": [
    "#dlib preparation\n",
    "\n",
    "import os\n",
    "from modelarts.session import Session\n",
    "sess = Session()\n",
    "\n",
    "if sess.region_name == 'cn-north-1':\n",
    "    bucket_path=\"modelarts-labs/notebook/DL_face_detector/face_detector.tar.gz\"\n",
    "elif sess.region_name == 'cn-north-4':\n",
    "    bucket_path=\"modelarts-labs-bj4/notebook/DL_face_detector/face_detector.tar.gz\"\n",
    "else:\n",
    "    print(\"请更换地区到北京一或北京四\")\n",
    "\n",
    "if not os.path.exists('./models/detector.dat'):    \n",
    "    sess.download_data(bucket_path=bucket_path, path=\"./face_detector.tar.gz\")\n",
    "\n",
    "if os.path.exists('./face_detector.tar.gz'):\n",
    "    # 使用tar命令解压资源包\n",
    "    os.system(\"tar -xf ./face_detector.tar.gz\")\n",
    "    # 清理压缩包\n",
    "    os.system(\"rm ./face_detector.tar.gz\")\n",
    "\n",
    "!pip install dlib==19.17.0\n",
    "from PIL import Image\n",
    "import dlib\n",
    "import cv2\n",
    "\n",
    "cnn_face_detector = dlib.cnn_face_detection_model_v1(\"./models/detector.dat\")"
   ]
  },
  {
   "cell_type": "code",
   "execution_count": 5,
   "metadata": {},
   "outputs": [
    {
     "name": "stdout",
     "output_type": "stream",
     "text": [
      "0:00:13.646997\n"
     ]
    }
   ],
   "source": [
    "# dlib action\n",
    "startTime = datetime.datetime.now()\n",
    "for index, filename in enumerate(glob.glob('GRP/my_data/' + '*.jpg')):\n",
    "    image = dlib.load_rgb_image(filename)\n",
    "    dets = cnn_face_detector(image, 1)\n",
    "    rects = dlib.rectangles()\n",
    "    rects.extend([d.rect for d in dets])\n",
    "    res_img = image\n",
    "    for x in rects:\n",
    "        res_img = cv2.rectangle(image, (x.left(), x.top()), (x.right(), x.bottom()), (0,255,0),2)\n",
    "    pic=Image.fromarray(res_img)\n",
    "    cstr=filename[12:15]\n",
    "    pic.save('GRP/dlib_res/'+cstr+\".png\")\n",
    "    DNA=(int(cstr[0])-1)*15+int(cstr[2])\n",
    "    if int(cstr[1])==2:\n",
    "        DNA +=5\n",
    "    elif int(cstr[1])==3:\n",
    "        DNA +=10\n",
    "    elif int(cstr[1])==4:\n",
    "        DNA +=13\n",
    "    worksheet.write(DNA+1,3, label = len(rects))\n",
    "endTime = datetime.datetime.now()\n",
    "print(endTime-startTime)"
   ]
  },
  {
   "cell_type": "code",
   "execution_count": 6,
   "metadata": {
    "scrolled": false
   },
   "outputs": [
    {
     "name": "stdout",
     "output_type": "stream",
     "text": [
      "Requirement already satisfied: mtcnn==0.0.8 in /home/ma-user/anaconda3/envs/TensorFlow-1.8/lib/python3.6/site-packages\n",
      "\u001b[33mYou are using pip version 9.0.1, however version 20.1.1 is available.\n",
      "You should consider upgrading via the 'pip install --upgrade pip' command.\u001b[0m\n"
     ]
    },
    {
     "name": "stderr",
     "output_type": "stream",
     "text": [
      "WARNING:tensorflow:From /home/ma-user/anaconda3/envs/TensorFlow-1.8/lib/python3.6/site-packages/mtcnn/layer_factory.py:211: calling reduce_max (from tensorflow.python.ops.math_ops) with keep_dims is deprecated and will be removed in a future version.\n",
      "Instructions for updating:\n",
      "keep_dims is deprecated, use keepdims instead\n",
      "WARNING:tensorflow:From /home/ma-user/anaconda3/envs/TensorFlow-1.8/lib/python3.6/site-packages/mtcnn/layer_factory.py:213: calling reduce_sum (from tensorflow.python.ops.math_ops) with keep_dims is deprecated and will be removed in a future version.\n",
      "Instructions for updating:\n",
      "keep_dims is deprecated, use keepdims instead\n"
     ]
    }
   ],
   "source": [
    "#MTCNN preparation\n",
    "!pip install mtcnn==0.0.8\n",
    "import numpy as np\n",
    "import cv2\n",
    "import tensorflow as tf\n",
    "import random\n",
    "from PIL import Image\n",
    "from mtcnn.mtcnn import MTCNN as mtcnn\n",
    "detector=mtcnn()"
   ]
  },
  {
   "cell_type": "code",
   "execution_count": 7,
   "metadata": {
    "scrolled": false
   },
   "outputs": [
    {
     "name": "stdout",
     "output_type": "stream",
     "text": [
      "0:00:15.875764\n"
     ]
    }
   ],
   "source": [
    "#MTCNN action\n",
    "startTime = datetime.datetime.now()\n",
    "for index, filename in enumerate(glob.glob('GRP/my_data/' + '*.jpg')):\n",
    "    image_path = filename\n",
    "    img = Image.open(image_path)\n",
    "    img = np.array(img)\n",
    "    detected = detector.detect_faces(img)\n",
    "    res_img = img##\n",
    "    for x in detected:\n",
    "        box = x[\"box\"]\n",
    "        res_img = cv2.rectangle(img, (box[0],box[1]),(box[0]+box[2],box[1]+box[3]),(0,255,0),2)\n",
    "    pic = Image.fromarray(res_img)\n",
    "    cstr=filename[12:15]\n",
    "    pic.save('GRP/MTCNN_res/'+cstr+\".png\")\n",
    "    DNA=(int(cstr[0])-1)*15+int(cstr[2])\n",
    "    if int(cstr[1])==2:\n",
    "        DNA +=5\n",
    "    elif int(cstr[1])==3:\n",
    "        DNA +=10\n",
    "    elif int(cstr[1])==4:\n",
    "        DNA +=13\n",
    "    worksheet.write(DNA+1,7, label = len(detected))\n",
    "endTime = datetime.datetime.now()\n",
    "print(endTime-startTime)"
   ]
  },
  {
   "cell_type": "code",
   "execution_count": 8,
   "metadata": {},
   "outputs": [],
   "source": [
    "#OpenCv preparation\n",
    "import cv2 as cv\n",
    "from PIL import Image\n",
    "path=\"/home/ma-user/anaconda3/envs/TensorFlow-1.13.1/lib/python3.6/site-packages/cv2/data/haarcascade_frontalface_alt.xml\"\n",
    "face_cascade = cv.CascadeClassifier(path)"
   ]
  },
  {
   "cell_type": "code",
   "execution_count": 9,
   "metadata": {},
   "outputs": [
    {
     "name": "stdout",
     "output_type": "stream",
     "text": [
      "0:00:12.442085\n"
     ]
    }
   ],
   "source": [
    "#OpenCv action\n",
    "startTime = datetime.datetime.now()\n",
    "for index, filename in enumerate(glob.glob('GRP/my_data/' + '*.jpg')):\n",
    "    #修改为自己的图片文件名\n",
    "    image_path = filename\n",
    "    img = cv.imread(image_path)\n",
    "    gray = cv.cvtColor(img,cv.COLOR_BGR2GRAY)\n",
    "    faces = face_cascade.detectMultiScale(gray)\n",
    "    for(x,y,w,h) in faces:\n",
    "        cv.rectangle(img,(x,y),(x+w,y+h),(0,255,0),2)\n",
    "    img = cv.cvtColor(img,cv.COLOR_BGR2RGB)\n",
    "    pic=Image.fromarray(img)\n",
    "    cstr=filename[12:15]\n",
    "    pic.save('GRP/OpenCv_res/'+cstr+\".png\")\n",
    "    DNA=(int(cstr[0])-1)*15+int(cstr[2])\n",
    "    if int(cstr[1])==2:\n",
    "        DNA +=5\n",
    "    elif int(cstr[1])==3:\n",
    "        DNA +=10\n",
    "    elif int(cstr[1])==4:\n",
    "        DNA +=13\n",
    "    worksheet.write(DNA+1,11, label = len(faces))\n",
    "endTime = datetime.datetime.now()\n",
    "print(endTime-startTime)"
   ]
  },
  {
   "cell_type": "code",
   "execution_count": 10,
   "metadata": {},
   "outputs": [],
   "source": [
    "workbook.save('GRP/GRP_res.xls')"
   ]
  }
 ],
 "metadata": {
  "kernelspec": {
   "display_name": "TensorFlow-1.8",
   "language": "python",
   "name": "tensorflow-1.8"
  },
  "language_info": {
   "codemirror_mode": {
    "name": "ipython",
    "version": 3
   },
   "file_extension": ".py",
   "mimetype": "text/x-python",
   "name": "python",
   "nbconvert_exporter": "python",
   "pygments_lexer": "ipython3",
   "version": "3.6.4"
  }
 },
 "nbformat": 4,
 "nbformat_minor": 4
}
